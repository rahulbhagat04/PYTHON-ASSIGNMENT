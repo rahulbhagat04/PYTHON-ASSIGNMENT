{
  "cells": [
    {
      "cell_type": "markdown",
      "metadata": {
        "id": "m8nxE_c5owpk"
      },
      "source": [
        "<a id=\"1\"></a>\n",
        "\n",
        "# <p style=\"padding:10px;background-color:#87CEEB ;margin:10;color:#000000;font-family:newtimeroman;font-size:100%;text-align:center;border-radius: 10px 10px ;overflow:hidden;font-weight:50\">Question 1</p>"
      ]
    },
    {
      "cell_type": "markdown",
      "metadata": {
        "id": "ZGrIhKMfowpk"
      },
      "source": [
        "## Consider the below code to answer further questions:"
      ]
    },
    {
      "cell_type": "code",
      "execution_count": null,
      "metadata": {
        "id": "W_AurE89owpk"
      },
      "outputs": [],
      "source": [
        "import numpy as np\n",
        "\n",
        "list_ = ['1','2','3','4','5']\n",
        "\n",
        "array_list = np.array(object = list_)"
      ]
    },
    {
      "cell_type": "code",
      "execution_count": null,
      "metadata": {
        "id": "jq1ehACCowpl",
        "outputId": "075910be-7458-45f0-83e9-7223184488e6"
      },
      "outputs": [
        {
          "data": {
            "text/plain": [
              "array(['1', '2', '3', '4', '5'], dtype='<U1')"
            ]
          },
          "execution_count": 2,
          "metadata": {},
          "output_type": "execute_result"
        }
      ],
      "source": [
        "# Viewing array_list\n",
        "array_list"
      ]
    },
    {
      "cell_type": "markdown",
      "metadata": {
        "id": "mKyNYljrowpm"
      },
      "source": [
        "## Queston 1 : Is there any difference in the data type of variables list_ and array_list? If there is then write a code to print the data types of both the variables\n",
        "---"
      ]
    },
    {
      "cell_type": "markdown",
      "metadata": {
        "id": "nacuxFmmowpm"
      },
      "source": [
        "## Answer :\n",
        "\n",
        "### Yes, there is a difference in the data type of the list_ and array_list variables.\n",
        "\n",
        "### The list_ variable is a Python list of strings, whereas array_list is a NumPy array of strings. Although they both contain the same string values, they have different data types because they are different types of objects.\n",
        "\n",
        "### Code to check type below :"
      ]
    },
    {
      "cell_type": "code",
      "execution_count": null,
      "metadata": {
        "id": "J8AsiIJcowpm",
        "outputId": "1c0a8b29-cc5f-4845-eace-cac762196be0"
      },
      "outputs": [
        {
          "name": "stdout",
          "output_type": "stream",
          "text": [
            "Type of list_ is : <class 'list'>\n",
            "Type of array_list is : <class 'numpy.ndarray'>\n"
          ]
        }
      ],
      "source": [
        "# Checking type of list_ and array_list\n",
        "print('Type of list_ is :',type(list_))\n",
        "print('Type of array_list is :',type(array_list))"
      ]
    },
    {
      "cell_type": "markdown",
      "metadata": {
        "id": "Hm3Qcoisowpm"
      },
      "source": [
        "<a id=\"2\"></a>\n",
        "\n",
        "# <p style=\"padding:10px;background-color:#87CEEB ;margin:10;color:#000000;font-family:newtimeroman;font-size:100%;text-align:center;border-radius: 10px 10px ;overflow:hidden;font-weight:50\">Question 2</p>"
      ]
    },
    {
      "cell_type": "markdown",
      "metadata": {
        "id": "Z-a9hsI3owpm"
      },
      "source": [
        "## Question 2: Write a code to print the data type of each and every element of both the variables list_ and array_list.\n",
        "---"
      ]
    },
    {
      "cell_type": "markdown",
      "metadata": {
        "id": "Y9Kzj4v7owpn"
      },
      "source": [
        "## Answer :"
      ]
    },
    {
      "cell_type": "code",
      "execution_count": null,
      "metadata": {
        "id": "7sASe650owpn",
        "outputId": "9f4326f1-b428-4f42-8cac-239e905edad4"
      },
      "outputs": [
        {
          "name": "stdout",
          "output_type": "stream",
          "text": [
            "Element value : 1, datatype = <class 'str'>\n",
            "Element value : 2, datatype = <class 'str'>\n",
            "Element value : 3, datatype = <class 'str'>\n",
            "Element value : 4, datatype = <class 'str'>\n",
            "Element value : 5, datatype = <class 'str'>\n"
          ]
        }
      ],
      "source": [
        "# Printing data types of each and every element in list_:\n",
        "for i in list_:\n",
        "    print(f'Element value : {i}, datatype = {type(i)}')"
      ]
    },
    {
      "cell_type": "code",
      "execution_count": null,
      "metadata": {
        "id": "yOeK-LWSowpn",
        "outputId": "3dfad46b-a603-4d97-bd38-516cd616e706"
      },
      "outputs": [
        {
          "name": "stdout",
          "output_type": "stream",
          "text": [
            "Element value : 1, datatype = <class 'numpy.str_'>\n",
            "Element value : 2, datatype = <class 'numpy.str_'>\n",
            "Element value : 3, datatype = <class 'numpy.str_'>\n",
            "Element value : 4, datatype = <class 'numpy.str_'>\n",
            "Element value : 5, datatype = <class 'numpy.str_'>\n"
          ]
        }
      ],
      "source": [
        "# Printing data types of each and every element in array_list\n",
        "for i in array_list:\n",
        "    print(f'Element value : {i}, datatype = {type(i)}')"
      ]
    },
    {
      "cell_type": "markdown",
      "metadata": {
        "id": "CCFe1uQgowpn"
      },
      "source": [
        "<a id=\"3\"></a>\n",
        "\n",
        "# <p style=\"padding:10px;background-color:#87CEEB ;margin:10;color:#000000;font-family:newtimeroman;font-size:100%;text-align:center;border-radius: 10px 10px ;overflow:hidden;font-weight:50\">Question 3</p>"
      ]
    },
    {
      "cell_type": "markdown",
      "metadata": {
        "id": "EAydFFy7owpn"
      },
      "source": [
        "## Question 3: Considering the following changes in the variable, array_list:"
      ]
    },
    {
      "cell_type": "code",
      "execution_count": null,
      "metadata": {
        "id": "XkOa1WxRowpn"
      },
      "outputs": [],
      "source": [
        "array_list = np.array(object = list_, dtype = int)"
      ]
    },
    {
      "cell_type": "code",
      "execution_count": null,
      "metadata": {
        "id": "jMFaLlCWowpn",
        "outputId": "92e4ab70-baf7-4aab-9d49-61628b9c8f0b"
      },
      "outputs": [
        {
          "data": {
            "text/plain": [
              "array([1, 2, 3, 4, 5])"
            ]
          },
          "execution_count": 7,
          "metadata": {},
          "output_type": "execute_result"
        }
      ],
      "source": [
        "# Viewing array_list\n",
        "array_list"
      ]
    },
    {
      "cell_type": "markdown",
      "metadata": {
        "id": "LXA5ZNtHowpn"
      },
      "source": [
        "## Will there be any difference in the data type of the elements present in both the variables, list_ and array_list? If so then print the data types of each and every element present in both the variables, list_and array_list.\n",
        "---"
      ]
    },
    {
      "cell_type": "markdown",
      "metadata": {
        "id": "8au5SikQowpo"
      },
      "source": [
        "## Answer :\n",
        "\n",
        "### Yes There will be difference in datatypes of elements present in both lists.\n",
        "\n",
        "### List elements will have data type string and array_list will have datatype numpy integer\n",
        "\n",
        "### Below is code for showing same"
      ]
    },
    {
      "cell_type": "code",
      "execution_count": null,
      "metadata": {
        "id": "aRoRAHSYowpo",
        "outputId": "0e9209b8-528f-47d8-82f1-44e664cff266"
      },
      "outputs": [
        {
          "name": "stdout",
          "output_type": "stream",
          "text": [
            "Element value : 1, datatype = <class 'str'>\n",
            "Element value : 2, datatype = <class 'str'>\n",
            "Element value : 3, datatype = <class 'str'>\n",
            "Element value : 4, datatype = <class 'str'>\n",
            "Element value : 5, datatype = <class 'str'>\n"
          ]
        }
      ],
      "source": [
        "# Printing data types of each and every element in list_:\n",
        "for i in list_:\n",
        "    print(f'Element value : {i}, datatype = {type(i)}')"
      ]
    },
    {
      "cell_type": "code",
      "execution_count": null,
      "metadata": {
        "id": "IPm-WQKbowpo",
        "outputId": "0096321e-aff1-4c12-9e70-97394d7ff4db"
      },
      "outputs": [
        {
          "name": "stdout",
          "output_type": "stream",
          "text": [
            "Element value : 1, datatype = <class 'numpy.int32'>\n",
            "Element value : 2, datatype = <class 'numpy.int32'>\n",
            "Element value : 3, datatype = <class 'numpy.int32'>\n",
            "Element value : 4, datatype = <class 'numpy.int32'>\n",
            "Element value : 5, datatype = <class 'numpy.int32'>\n"
          ]
        }
      ],
      "source": [
        "# Printing data types of each and every element in modified array_list\n",
        "for i in array_list:\n",
        "    print(f'Element value : {i}, datatype = {type(i)}')"
      ]
    },
    {
      "cell_type": "markdown",
      "metadata": {
        "id": "_y4OVnHsowpo"
      },
      "source": [
        "<a id=\"4\"></a>\n",
        "\n",
        "# <p style=\"padding:10px;background-color:#87CEEB ;margin:10;color:#000000;font-family:newtimeroman;font-size:100%;text-align:center;border-radius: 10px 10px ;overflow:hidden;font-weight:50\">Question 4</p>"
      ]
    },
    {
      "cell_type": "markdown",
      "metadata": {
        "id": "Oroqqx-Iowpo"
      },
      "source": [
        "## Consider the below code to answer further questions:"
      ]
    },
    {
      "cell_type": "code",
      "execution_count": null,
      "metadata": {
        "id": "_tYKSJ9aowpo"
      },
      "outputs": [],
      "source": [
        "import numpy as np\n",
        "\n",
        "num_list = [ [ 1 , 2 , 3 ] , [ 4 , 5 , 6 ] ]\n",
        "\n",
        "num_array = np.array(object = num_list)"
      ]
    },
    {
      "cell_type": "code",
      "execution_count": null,
      "metadata": {
        "id": "q9ZR9AOsowpo",
        "outputId": "4aca4d36-eca6-4365-f738-eb01f7845ca6"
      },
      "outputs": [
        {
          "data": {
            "text/plain": [
              "array([[1, 2, 3],\n",
              "       [4, 5, 6]])"
            ]
          },
          "execution_count": 13,
          "metadata": {},
          "output_type": "execute_result"
        }
      ],
      "source": [
        "# Viewing num_array\n",
        "num_array"
      ]
    },
    {
      "cell_type": "markdown",
      "metadata": {
        "id": "agr-3K01owpp"
      },
      "source": [
        "## Question 4: Write a code to find the following characteristics of variable, num_array:\n",
        "### 1. shape\n",
        "### 2. size\n",
        "---"
      ]
    },
    {
      "cell_type": "markdown",
      "metadata": {
        "id": "wkh5-l_0owpp"
      },
      "source": [
        "## Answer :"
      ]
    },
    {
      "cell_type": "code",
      "execution_count": null,
      "metadata": {
        "id": "XxxKaprDowpp",
        "outputId": "26318263-feae-4970-d98c-8343177f2527"
      },
      "outputs": [
        {
          "data": {
            "text/plain": [
              "(2, 3)"
            ]
          },
          "execution_count": 14,
          "metadata": {},
          "output_type": "execute_result"
        }
      ],
      "source": [
        "# Showing num_array shape\n",
        "num_array.shape"
      ]
    },
    {
      "cell_type": "code",
      "execution_count": null,
      "metadata": {
        "id": "b1w9lWsrowpp",
        "outputId": "ac169eb3-e6d0-4bd7-cd99-6aab1488c883"
      },
      "outputs": [
        {
          "data": {
            "text/plain": [
              "6"
            ]
          },
          "execution_count": 15,
          "metadata": {},
          "output_type": "execute_result"
        }
      ],
      "source": [
        "# Showing num_array size\n",
        "num_array.size"
      ]
    },
    {
      "cell_type": "markdown",
      "metadata": {
        "id": "dyPm28mAowpp"
      },
      "source": [
        "<a id=\"5\"></a>\n",
        "\n",
        "# <p style=\"padding:10px;background-color:#87CEEB ;margin:10;color:#000000;font-family:newtimeroman;font-size:100%;text-align:center;border-radius: 10px 10px ;overflow:hidden;font-weight:50\">Question 5</p>"
      ]
    },
    {
      "cell_type": "markdown",
      "metadata": {
        "id": "5H_KKpfkowpp"
      },
      "source": [
        "## Question 5: Write a code to create numpy array of 3*3 matrix containing zeros only, using a numpy array creation function.\n",
        "\n",
        "### [Hint: The size of the array will be 9 and the shape will be (3,3).]\n",
        "\n",
        "---"
      ]
    },
    {
      "cell_type": "markdown",
      "metadata": {
        "id": "WJWuGZN6owpp"
      },
      "source": [
        "## Answer :"
      ]
    },
    {
      "cell_type": "code",
      "execution_count": null,
      "metadata": {
        "id": "cEDIo7XUowpp",
        "outputId": "4fe60467-1fca-49d3-ca30-4b5dfdc8d404"
      },
      "outputs": [
        {
          "data": {
            "text/plain": [
              "array([[0., 0., 0.],\n",
              "       [0., 0., 0.],\n",
              "       [0., 0., 0.]])"
            ]
          },
          "execution_count": 16,
          "metadata": {},
          "output_type": "execute_result"
        }
      ],
      "source": [
        "## Using np.zeros to create a 3X3 matrix containing zeros\n",
        "arr5 = np.zeros((3,3))\n",
        "arr5"
      ]
    },
    {
      "cell_type": "code",
      "execution_count": null,
      "metadata": {
        "id": "c6eROgs0owpq",
        "outputId": "11ff9ad1-3bcf-4b98-8e32-8ae963f80362"
      },
      "outputs": [
        {
          "name": "stdout",
          "output_type": "stream",
          "text": [
            "Size of arr5 is 9\n",
            "Shape of arr5 is (3, 3)\n"
          ]
        }
      ],
      "source": [
        "# Verifying Matrix size and shape\n",
        "print(f'Size of arr5 is {arr5.size}')\n",
        "print(f'Shape of arr5 is {arr5.shape}')"
      ]
    },
    {
      "cell_type": "markdown",
      "metadata": {
        "id": "NwYcJ0fxowpq"
      },
      "source": [
        "<a id=\"6\"></a>\n",
        "\n",
        "# <p style=\"padding:10px;background-color:#87CEEB ;margin:10;color:#000000;font-family:newtimeroman;font-size:100%;text-align:center;border-radius: 10px 10px ;overflow:hidden;font-weight:50\">Question 6</p>"
      ]
    },
    {
      "cell_type": "markdown",
      "metadata": {
        "id": "Fl6dEWhHowpq"
      },
      "source": [
        "## Question 6: Create an identity matrix of shape (5,5) using numpy functions?\n",
        "\n",
        "### [Hint: An identity matrix is a matrix containing 1 diagonally and other elements will be 0.]\n",
        "---"
      ]
    },
    {
      "cell_type": "markdown",
      "metadata": {
        "id": "J8ujGRPsowpq"
      },
      "source": [
        "## Answer:"
      ]
    },
    {
      "cell_type": "code",
      "execution_count": null,
      "metadata": {
        "id": "GMYrrcOYowpq",
        "outputId": "ac6456af-e793-4c59-89b9-9dddf5974eea"
      },
      "outputs": [
        {
          "data": {
            "text/plain": [
              "array([[1., 0., 0., 0., 0.],\n",
              "       [0., 1., 0., 0., 0.],\n",
              "       [0., 0., 1., 0., 0.],\n",
              "       [0., 0., 0., 1., 0.],\n",
              "       [0., 0., 0., 0., 1.]])"
            ]
          },
          "execution_count": 18,
          "metadata": {},
          "output_type": "execute_result"
        }
      ],
      "source": [
        "## Creating identity matrix using np.eye\n",
        "arr6 = np.eye(5)\n",
        "arr6"
      ]
    }
  ],
  "metadata": {
    "kernelspec": {
      "display_name": "venv",
      "language": "python",
      "name": "python3"
    },
    "language_info": {
      "codemirror_mode": {
        "name": "ipython",
        "version": 3
      },
      "file_extension": ".py",
      "mimetype": "text/x-python",
      "name": "python",
      "nbconvert_exporter": "python",
      "pygments_lexer": "ipython3",
      "version": "3.10.7"
    },
    "orig_nbformat": 4,
    "vscode": {
      "interpreter": {
        "hash": "27149e82490bdaa27222c4e29544e396278d224a9f42010d392c3451ce079b12"
      }
    },
    "colab": {
      "provenance": []
    }
  },
  "nbformat": 4,
  "nbformat_minor": 0
}