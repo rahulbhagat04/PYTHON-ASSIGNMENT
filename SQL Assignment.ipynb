{
  "cells": [
    {
      "cell_type": "markdown",
      "metadata": {
        "id": "hGPNYAozd1-R"
      },
      "source": [
        "## Question 1: What is a database? Differentiate between SQL and NoSQL databases.\n",
        "---"
      ]
    },
    {
      "cell_type": "markdown",
      "metadata": {
        "id": "NIUMlbvgd1-R"
      },
      "source": [
        "## Answer:\n",
        "\n",
        "A database is a collection of organized data that is stored and managed on a computer system. It allows for efficient storage, retrieval, and manipulation of large amounts of data. A database system typically consists of software that manages the data, a database server that stores the data, and one or more applications that access the data.\n",
        "\n",
        "SQL (Structured Query Language) and NoSQL (Not only SQL) are two different types of database management systems that use different methods for storing and retrieving data. Here are some key differences between the two:\n",
        "\n",
        "|      Feature   | SQL databases                              | NoSQL databases                    |\n",
        "| :---------:    | :----------------------------------------  | :--------------------------------  |\n",
        "| Data model     | Relational data model                      | Flexible data model                |\n",
        "| Query language | SQL                                        | Database-specific query language   |\n",
        "| Scalability    | Vertically scalable                        | Horizontally scalable              |\n",
        "| Consistency    | Strong consistency                         | May offer weaker consistency models|\n",
        "| Usage          | Complex queries and transactions           | Fast and flexible data processing  |\n",
        "\n",
        "Here are some examples of each databases:\n",
        "1. SQL Databases:\n",
        "    * mySQL\n",
        "    * Oracle\n",
        "    * PostgreSQL\n",
        "    * Microsoft SQL Server\n",
        "    * SQLite\n",
        "2. NoSQL Databases:\n",
        "    * MongoDB (document-oriented)\n",
        "    * Cassandra (column-family)\n",
        "    * Redis (key-value)\n",
        "    * Neo4j (graph)\n",
        "    * Amazon DynamoDB (document-oriented)\n",
        "\n",
        "It's worth noting that there are many different types of NoSQL databases, each with their own strengths and weaknesses. For example, document-oriented databases like MongoDB are great for storing unstructured data such as JSON documents, while graph databases like Neo4j are ideal for modeling complex relationships between data points.\n",
        "\n",
        "Similarly, there are many different types of SQL databases, each with their own features and benefits. For example, MySQL is a popular choice for web applications due to its fast performance and scalability, while PostgreSQL is often used for data warehousing and business intelligence applications due to its advanced query optimization capabilities.\n",
        "\n",
        "Ultimately, the choice between SQL and NoSQL databases will depend on the specific requirements of your application and the type of data you need to store and process."
      ]
    },
    {
      "cell_type": "markdown",
      "metadata": {
        "id": "wvfovnNxd1-S"
      },
      "source": [
        "## Question 2: What is DDL? Explain why CREATE, DROP, ALTER, and TRUNCATE are used with an example.\n",
        "---"
      ]
    },
    {
      "cell_type": "markdown",
      "metadata": {
        "id": "Ub7qriRwd1-S"
      },
      "source": [
        "## Answer : DDL stands for Data Definition Language, which is a subset of SQL used to create, modify, and delete database objects such as tables, indexes, and views."
      ]
    },
    {
      "cell_type": "markdown",
      "metadata": {
        "id": "Ug0lLsOUd1-S"
      },
      "source": [
        "### Establishing Connection with SQLite3"
      ]
    },
    {
      "cell_type": "markdown",
      "metadata": {
        "id": "nsskJjayd1-S"
      },
      "source": [
        "#### Dependencies required : sqlalchemy==1.3.9 , ipython-sql\n",
        "Using !pip install to install above package through this jupyter notebook"
      ]
    },
    {
      "cell_type": "code",
      "execution_count": null,
      "metadata": {
        "id": "q4eaQ3Eed1-S",
        "outputId": "64633028-5eb5-4ba2-dbef-aafd3cbad901"
      },
      "outputs": [
        {
          "name": "stdout",
          "output_type": "stream",
          "text": [
            "Requirement already satisfied: sqlalchemy==1.3.9 in e:\\pwskills assignments\\venv\\lib\\site-packages (1.3.9)\n",
            "Requirement already satisfied: ipython-sql in e:\\pwskills assignments\\venv\\lib\\site-packages (0.4.1)\n",
            "Requirement already satisfied: prettytable<1 in e:\\pwskills assignments\\venv\\lib\\site-packages (from ipython-sql) (0.7.2)\n",
            "Requirement already satisfied: ipython>=1.0 in e:\\pwskills assignments\\venv\\lib\\site-packages (from ipython-sql) (8.9.0)\n",
            "Requirement already satisfied: ipython-genutils>=0.1.0 in e:\\pwskills assignments\\venv\\lib\\site-packages (from ipython-sql) (0.2.0)\n",
            "Requirement already satisfied: sqlparse in e:\\pwskills assignments\\venv\\lib\\site-packages (from ipython-sql) (0.4.3)\n",
            "Requirement already satisfied: six in e:\\pwskills assignments\\venv\\lib\\site-packages (from ipython-sql) (1.16.0)\n",
            "Requirement already satisfied: pickleshare in e:\\pwskills assignments\\venv\\lib\\site-packages (from ipython>=1.0->ipython-sql) (0.7.5)\n",
            "Requirement already satisfied: pygments>=2.4.0 in e:\\pwskills assignments\\venv\\lib\\site-packages (from ipython>=1.0->ipython-sql) (2.14.0)\n",
            "Requirement already satisfied: colorama in e:\\pwskills assignments\\venv\\lib\\site-packages (from ipython>=1.0->ipython-sql) (0.4.6)\n",
            "Requirement already satisfied: matplotlib-inline in e:\\pwskills assignments\\venv\\lib\\site-packages (from ipython>=1.0->ipython-sql) (0.1.6)\n",
            "Requirement already satisfied: traitlets>=5 in e:\\pwskills assignments\\venv\\lib\\site-packages (from ipython>=1.0->ipython-sql) (5.9.0)\n",
            "Requirement already satisfied: prompt-toolkit<3.1.0,>=3.0.30 in e:\\pwskills assignments\\venv\\lib\\site-packages (from ipython>=1.0->ipython-sql) (3.0.36)\n",
            "Requirement already satisfied: backcall in e:\\pwskills assignments\\venv\\lib\\site-packages (from ipython>=1.0->ipython-sql) (0.2.0)\n",
            "Requirement already satisfied: jedi>=0.16 in e:\\pwskills assignments\\venv\\lib\\site-packages (from ipython>=1.0->ipython-sql) (0.18.2)\n",
            "Requirement already satisfied: stack-data in e:\\pwskills assignments\\venv\\lib\\site-packages (from ipython>=1.0->ipython-sql) (0.6.2)\n",
            "Requirement already satisfied: decorator in e:\\pwskills assignments\\venv\\lib\\site-packages (from ipython>=1.0->ipython-sql) (5.1.1)\n",
            "Requirement already satisfied: parso<0.9.0,>=0.8.0 in e:\\pwskills assignments\\venv\\lib\\site-packages (from jedi>=0.16->ipython>=1.0->ipython-sql) (0.8.3)\n",
            "Requirement already satisfied: wcwidth in e:\\pwskills assignments\\venv\\lib\\site-packages (from prompt-toolkit<3.1.0,>=3.0.30->ipython>=1.0->ipython-sql) (0.2.6)\n",
            "Requirement already satisfied: executing>=1.2.0 in e:\\pwskills assignments\\venv\\lib\\site-packages (from stack-data->ipython>=1.0->ipython-sql) (1.2.0)\n",
            "Requirement already satisfied: pure-eval in e:\\pwskills assignments\\venv\\lib\\site-packages (from stack-data->ipython>=1.0->ipython-sql) (0.2.2)\n",
            "Requirement already satisfied: asttokens>=2.1.0 in e:\\pwskills assignments\\venv\\lib\\site-packages (from stack-data->ipython>=1.0->ipython-sql) (2.2.1)\n"
          ]
        }
      ],
      "source": [
        "!pip install sqlalchemy==1.3.9 ipython-sql"
      ]
    },
    {
      "cell_type": "code",
      "execution_count": null,
      "metadata": {
        "id": "2bUnLimad1-T"
      },
      "outputs": [],
      "source": [
        "%load_ext sql"
      ]
    },
    {
      "cell_type": "code",
      "execution_count": null,
      "metadata": {
        "id": "YOyzbc45d1-T"
      },
      "outputs": [],
      "source": [
        "import csv, sqlite3\n",
        "con = sqlite3.connect(\"test.db\")\n",
        "cur = con.cursor()"
      ]
    },
    {
      "cell_type": "code",
      "execution_count": null,
      "metadata": {
        "id": "V8Y5NqLCd1-T"
      },
      "outputs": [],
      "source": [
        "%sql sqlite:///test.db"
      ]
    },
    {
      "cell_type": "markdown",
      "metadata": {
        "id": "7_ES9mhDd1-T"
      },
      "source": [
        "### With above a connection is now established to test.db and we can directly write a query with %%sql magic command using above"
      ]
    },
    {
      "cell_type": "markdown",
      "metadata": {
        "id": "XEMSig0td1-U"
      },
      "source": [
        "Note: The %%sql command is a Jupyter Notebook magic command that allows you to execute SQL queries directly in a notebook cell. Provided that database connection is established"
      ]
    },
    {
      "cell_type": "markdown",
      "metadata": {
        "id": "crLaahfdd1-U"
      },
      "source": [
        "## Below are DDL Commands executed with %%sql magic command"
      ]
    },
    {
      "cell_type": "markdown",
      "metadata": {
        "id": "WpYLgajmd1-U"
      },
      "source": [
        "1. CREATE: The CREATE command is used to create a new database object, such as a table, index, or view. For example, to create a new table called \"users\" with columns for a user's name, email, and password, you would use the following SQL statement:"
      ]
    },
    {
      "cell_type": "code",
      "execution_count": null,
      "metadata": {
        "id": "Z3yKR6sid1-U",
        "outputId": "6114eab6-0988-4ed7-9def-103911142f63"
      },
      "outputs": [
        {
          "name": "stdout",
          "output_type": "stream",
          "text": [
            " * sqlite:///test.db\n",
            "Done.\n"
          ]
        },
        {
          "data": {
            "text/plain": [
              "[]"
            ]
          },
          "execution_count": 5,
          "metadata": {},
          "output_type": "execute_result"
        }
      ],
      "source": [
        "%%sql\n",
        "CREATE TABLE if not exists users\n",
        "(id INT PRIMARY KEY,\n",
        "name VARCHAR(50) NOT NULL,\n",
        "email VARCHAR(50) NOT NULL,\n",
        "password VARCHAR(50) NOT NULL);"
      ]
    },
    {
      "cell_type": "code",
      "execution_count": null,
      "metadata": {
        "id": "ApJWhOG7d1-U",
        "outputId": "d5c8113a-10ae-454c-8d65-2350bf535297"
      },
      "outputs": [
        {
          "name": "stdout",
          "output_type": "stream",
          "text": [
            " * sqlite:///test.db\n",
            "Done.\n"
          ]
        },
        {
          "data": {
            "text/html": [
              "<table>\n",
              "    <tr>\n",
              "        <th>id</th>\n",
              "        <th>name</th>\n",
              "        <th>email</th>\n",
              "        <th>password</th>\n",
              "    </tr>\n",
              "</table>"
            ],
            "text/plain": [
              "[]"
            ]
          },
          "execution_count": 6,
          "metadata": {},
          "output_type": "execute_result"
        }
      ],
      "source": [
        "# Viewing Above table\n",
        "%sql SELECT * FROM users;"
      ]
    },
    {
      "cell_type": "markdown",
      "metadata": {
        "id": "Av5ql7Zed1-U"
      },
      "source": [
        "2. DROP: The DROP command is used to delete an existing database object. For example, to delete the \"users\" table created in the previous example, you would use the following SQL statement:"
      ]
    },
    {
      "cell_type": "code",
      "execution_count": null,
      "metadata": {
        "id": "dHR0kZoxd1-U",
        "outputId": "d6b06f7a-3e96-40d2-bca3-cb15d242882c"
      },
      "outputs": [
        {
          "name": "stdout",
          "output_type": "stream",
          "text": [
            " * sqlite:///test.db\n",
            "Done.\n"
          ]
        },
        {
          "data": {
            "text/plain": [
              "[]"
            ]
          },
          "execution_count": 7,
          "metadata": {},
          "output_type": "execute_result"
        }
      ],
      "source": [
        "# DROP example to delete tables\n",
        "%sql DROP TABLE users;"
      ]
    },
    {
      "cell_type": "code",
      "execution_count": null,
      "metadata": {
        "id": "YBUqsWe1d1-U",
        "outputId": "462bbbe3-be98-4dee-92b0-2eef1a48b34d"
      },
      "outputs": [
        {
          "name": "stdout",
          "output_type": "stream",
          "text": [
            " * sqlite:///test.db\n",
            "(sqlite3.OperationalError) no such table: users\n",
            "[SQL: SELECT * FROM users]\n",
            "(Background on this error at: http://sqlalche.me/e/e3q8)\n"
          ]
        }
      ],
      "source": [
        "%sql SELECT * FROM users\n",
        "#Below output shows that users table is deleted (no such table: users)"
      ]
    },
    {
      "cell_type": "markdown",
      "metadata": {
        "id": "cF6EVtuHd1-V"
      },
      "source": [
        "3. ALTER: The ALTER command is used to modify an existing database object, such as a table, index, or view. For example, to add a new column to the \"users\" table to track a user's login status."
      ]
    },
    {
      "cell_type": "code",
      "execution_count": null,
      "metadata": {
        "id": "t8Rzf3mid1-V",
        "outputId": "fcfbd076-9cf7-4c64-cf81-6495c3d6c046"
      },
      "outputs": [
        {
          "name": "stdout",
          "output_type": "stream",
          "text": [
            " * sqlite:///test.db\n",
            "Done.\n"
          ]
        },
        {
          "data": {
            "text/plain": [
              "[]"
            ]
          },
          "execution_count": 9,
          "metadata": {},
          "output_type": "execute_result"
        }
      ],
      "source": [
        "%%sql\n",
        "CREATE TABLE if not exists users\n",
        "(id INT PRIMARY KEY,\n",
        "name VARCHAR(50) NOT NULL,\n",
        "email VARCHAR(50) NOT NULL,\n",
        "password VARCHAR(50) NOT NULL);"
      ]
    },
    {
      "cell_type": "code",
      "execution_count": null,
      "metadata": {
        "id": "UvJq_k_Pd1-V",
        "outputId": "10fea78c-1f74-4fec-d3a1-34ebefcb116f"
      },
      "outputs": [
        {
          "name": "stdout",
          "output_type": "stream",
          "text": [
            " * sqlite:///test.db\n",
            "Done.\n"
          ]
        },
        {
          "data": {
            "text/html": [
              "<table>\n",
              "    <tr>\n",
              "        <th>id</th>\n",
              "        <th>name</th>\n",
              "        <th>email</th>\n",
              "        <th>password</th>\n",
              "    </tr>\n",
              "</table>"
            ],
            "text/plain": [
              "[]"
            ]
          },
          "execution_count": 10,
          "metadata": {},
          "output_type": "execute_result"
        }
      ],
      "source": [
        "%sql SELECT * FROM users;"
      ]
    },
    {
      "cell_type": "code",
      "execution_count": null,
      "metadata": {
        "id": "Y4mSeeihd1-V",
        "outputId": "18f05628-e665-45e1-8c37-b8fefaec3b61"
      },
      "outputs": [
        {
          "name": "stdout",
          "output_type": "stream",
          "text": [
            " * sqlite:///test.db\n",
            "Done.\n"
          ]
        },
        {
          "data": {
            "text/plain": [
              "[]"
            ]
          },
          "execution_count": 11,
          "metadata": {},
          "output_type": "execute_result"
        }
      ],
      "source": [
        "# ALTER Example to change column name and schema\n",
        "%sql ALTER TABLE users ADD COLUMN login_status BOOLEAN;"
      ]
    },
    {
      "cell_type": "code",
      "execution_count": null,
      "metadata": {
        "id": "FaSCspBrd1-V",
        "outputId": "3210ce08-d55f-4285-a639-e8721d1f0d50"
      },
      "outputs": [
        {
          "name": "stdout",
          "output_type": "stream",
          "text": [
            " * sqlite:///test.db\n",
            "Done.\n"
          ]
        },
        {
          "data": {
            "text/html": [
              "<table>\n",
              "    <tr>\n",
              "        <th>id</th>\n",
              "        <th>name</th>\n",
              "        <th>email</th>\n",
              "        <th>password</th>\n",
              "        <th>login_status</th>\n",
              "    </tr>\n",
              "</table>"
            ],
            "text/plain": [
              "[]"
            ]
          },
          "execution_count": 12,
          "metadata": {},
          "output_type": "execute_result"
        }
      ],
      "source": [
        "%sql SELECT * FROM users;"
      ]
    },
    {
      "cell_type": "markdown",
      "metadata": {
        "id": "MSajmj_td1-V"
      },
      "source": [
        "4. TRUNCATE: The TRUNCATE command is used to delete all the rows in a table, while keeping the table structure intact. For example, to delete all the data in the \"users\" table but keep the table structure, you would use the following SQL statement:\n",
        "\n",
        "***Please note that SQLite has command : DELETE FROM table_name*** instead of TRUNCATE from mySQL\n",
        "\n",
        "Command in my SQL is as below:<br>\n",
        "TRUNCATE TABLE table_name"
      ]
    },
    {
      "cell_type": "code",
      "execution_count": null,
      "metadata": {
        "id": "kVay2ugzd1-V",
        "outputId": "a8467f81-2442-4844-9ccf-faa6c5644015"
      },
      "outputs": [
        {
          "name": "stdout",
          "output_type": "stream",
          "text": [
            " * sqlite:///test.db\n",
            "Done.\n"
          ]
        },
        {
          "data": {
            "text/html": [
              "<table>\n",
              "    <tr>\n",
              "        <th>id</th>\n",
              "        <th>name</th>\n",
              "        <th>email</th>\n",
              "        <th>password</th>\n",
              "        <th>login_status</th>\n",
              "    </tr>\n",
              "</table>"
            ],
            "text/plain": [
              "[]"
            ]
          },
          "execution_count": 13,
          "metadata": {},
          "output_type": "execute_result"
        }
      ],
      "source": [
        "%sql select * from users;"
      ]
    },
    {
      "cell_type": "code",
      "execution_count": null,
      "metadata": {
        "id": "QbiXVPhMd1-W",
        "outputId": "33a7e9df-bf22-4785-d652-c6c033d4c9a5"
      },
      "outputs": [
        {
          "name": "stdout",
          "output_type": "stream",
          "text": [
            " * sqlite:///test.db\n",
            "1 rows affected.\n",
            "1 rows affected.\n"
          ]
        },
        {
          "data": {
            "text/plain": [
              "[]"
            ]
          },
          "execution_count": 14,
          "metadata": {},
          "output_type": "execute_result"
        }
      ],
      "source": [
        "%%sql\n",
        "INSERT INTO users VALUES (1,'John Doe','test@test.com','123#413s',False);\n",
        "INSERT INTO users VALUES (2, 'Jane Doe','test@jane.com','21wdds2',True);"
      ]
    },
    {
      "cell_type": "code",
      "execution_count": null,
      "metadata": {
        "id": "_B9UTr6od1-W",
        "outputId": "e31b8f29-635d-4f7a-fd59-f28de9ca55e5"
      },
      "outputs": [
        {
          "name": "stdout",
          "output_type": "stream",
          "text": [
            " * sqlite:///test.db\n",
            "Done.\n"
          ]
        },
        {
          "data": {
            "text/html": [
              "<table>\n",
              "    <tr>\n",
              "        <th>id</th>\n",
              "        <th>name</th>\n",
              "        <th>email</th>\n",
              "        <th>password</th>\n",
              "        <th>login_status</th>\n",
              "    </tr>\n",
              "    <tr>\n",
              "        <td>1</td>\n",
              "        <td>John Doe</td>\n",
              "        <td>test@test.com</td>\n",
              "        <td>123#413s</td>\n",
              "        <td>0</td>\n",
              "    </tr>\n",
              "    <tr>\n",
              "        <td>2</td>\n",
              "        <td>Jane Doe</td>\n",
              "        <td>test@jane.com</td>\n",
              "        <td>21wdds2</td>\n",
              "        <td>1</td>\n",
              "    </tr>\n",
              "</table>"
            ],
            "text/plain": [
              "[(1, 'John Doe', 'test@test.com', '123#413s', 0),\n",
              " (2, 'Jane Doe', 'test@jane.com', '21wdds2', 1)]"
            ]
          },
          "execution_count": 15,
          "metadata": {},
          "output_type": "execute_result"
        }
      ],
      "source": [
        "%sql SELECT * FROM users;"
      ]
    },
    {
      "cell_type": "code",
      "execution_count": null,
      "metadata": {
        "id": "ysKp4BIsd1-W",
        "outputId": "3af0ddc8-1cc7-4dbb-9aee-dcd96aaa8a06"
      },
      "outputs": [
        {
          "name": "stdout",
          "output_type": "stream",
          "text": [
            " * sqlite:///test.db\n",
            "2 rows affected.\n"
          ]
        },
        {
          "data": {
            "text/plain": [
              "[]"
            ]
          },
          "execution_count": 16,
          "metadata": {},
          "output_type": "execute_result"
        }
      ],
      "source": [
        "# Truncate Example SQLITE Has DELETE command instead of TRUNCATE\n",
        "%sql DELETE FROM users;"
      ]
    },
    {
      "cell_type": "code",
      "execution_count": null,
      "metadata": {
        "id": "Qx2r4ZCWd1-W",
        "outputId": "775ca5b1-97f9-453f-ca9d-e057bf6cdad3"
      },
      "outputs": [
        {
          "name": "stdout",
          "output_type": "stream",
          "text": [
            " * sqlite:///test.db\n",
            "Done.\n"
          ]
        },
        {
          "data": {
            "text/html": [
              "<table>\n",
              "    <tr>\n",
              "        <th>id</th>\n",
              "        <th>name</th>\n",
              "        <th>email</th>\n",
              "        <th>password</th>\n",
              "        <th>login_status</th>\n",
              "    </tr>\n",
              "</table>"
            ],
            "text/plain": [
              "[]"
            ]
          },
          "execution_count": 17,
          "metadata": {},
          "output_type": "execute_result"
        }
      ],
      "source": [
        "%sql SELECT * FROM users;"
      ]
    },
    {
      "cell_type": "markdown",
      "metadata": {
        "id": "Z72Aa9nQd1-W"
      },
      "source": [
        "## Question 3: What is DML? Explain INSERT, UPDATE, and DELETE with an example.\n",
        "---"
      ]
    },
    {
      "cell_type": "markdown",
      "metadata": {
        "id": "z4xNnrMPd1-W"
      },
      "source": [
        "## Answer : DML stands for \"Data Manipulation Language,\" and it is a subset of SQL (Structured Query Language) that is used to manipulate data within a database. The three main commands in DML are INSERT, UPDATE, and DELETE."
      ]
    },
    {
      "cell_type": "markdown",
      "metadata": {
        "id": "JXYgOc7md1-W"
      },
      "source": [
        "### Creating a Blank Table first with student information grades"
      ]
    },
    {
      "cell_type": "code",
      "execution_count": null,
      "metadata": {
        "id": "YbsZbHlUd1-W",
        "outputId": "34213220-bc45-4ad0-c1fa-2cfcd5482a30"
      },
      "outputs": [
        {
          "name": "stdout",
          "output_type": "stream",
          "text": [
            " * sqlite:///test.db\n",
            "Done.\n"
          ]
        },
        {
          "data": {
            "text/plain": [
              "[]"
            ]
          },
          "execution_count": 18,
          "metadata": {},
          "output_type": "execute_result"
        }
      ],
      "source": [
        "%%sql\n",
        "CREATE TABLE if not exists students\n",
        "(name VARCHAR(50) ,\n",
        "age INT ,\n",
        "grade VARCHAR(2));"
      ]
    },
    {
      "cell_type": "code",
      "execution_count": null,
      "metadata": {
        "id": "mSG8vnXqd1-a",
        "outputId": "7c8fa819-25f0-46f6-de3b-d81424bda464"
      },
      "outputs": [
        {
          "name": "stdout",
          "output_type": "stream",
          "text": [
            " * sqlite:///test.db\n",
            "Done.\n"
          ]
        },
        {
          "data": {
            "text/html": [
              "<table>\n",
              "    <tr>\n",
              "        <th>name</th>\n",
              "        <th>age</th>\n",
              "        <th>grade</th>\n",
              "    </tr>\n",
              "</table>"
            ],
            "text/plain": [
              "[]"
            ]
          },
          "execution_count": 19,
          "metadata": {},
          "output_type": "execute_result"
        }
      ],
      "source": [
        "# Viewing the students table\n",
        "%sql SELECT * FROM students"
      ]
    },
    {
      "cell_type": "markdown",
      "metadata": {
        "id": "Le5ZsFzld1-a"
      },
      "source": [
        "1. INSERT - The INSERT command is used to add new data to a database table."
      ]
    },
    {
      "cell_type": "code",
      "execution_count": null,
      "metadata": {
        "id": "wlFJWV5td1-b",
        "outputId": "59b856ed-464c-43df-d5ac-6a9aeeb933ea"
      },
      "outputs": [
        {
          "name": "stdout",
          "output_type": "stream",
          "text": [
            " * sqlite:///test.db\n",
            "1 rows affected.\n"
          ]
        },
        {
          "data": {
            "text/plain": [
              "[]"
            ]
          },
          "execution_count": 20,
          "metadata": {},
          "output_type": "execute_result"
        }
      ],
      "source": [
        "#INSERT Command\n",
        "%sql INSERT INTO students VALUES ('Utkarsh Gaikwad', 28, 'B');"
      ]
    },
    {
      "cell_type": "code",
      "execution_count": null,
      "metadata": {
        "id": "Isf4VcYrd1-b",
        "outputId": "1bbeab0f-1055-4e10-bb18-ece973e8a165"
      },
      "outputs": [
        {
          "name": "stdout",
          "output_type": "stream",
          "text": [
            " * sqlite:///test.db\n",
            "Done.\n"
          ]
        },
        {
          "data": {
            "text/html": [
              "<table>\n",
              "    <tr>\n",
              "        <th>name</th>\n",
              "        <th>age</th>\n",
              "        <th>grade</th>\n",
              "    </tr>\n",
              "    <tr>\n",
              "        <td>Utkarsh Gaikwad</td>\n",
              "        <td>28</td>\n",
              "        <td>B</td>\n",
              "    </tr>\n",
              "</table>"
            ],
            "text/plain": [
              "[('Utkarsh Gaikwad', 28, 'B')]"
            ]
          },
          "execution_count": 21,
          "metadata": {},
          "output_type": "execute_result"
        }
      ],
      "source": [
        "# Viewing the table now\n",
        "%sql SELECT * FROM students"
      ]
    },
    {
      "cell_type": "markdown",
      "metadata": {
        "id": "YZhioQ8Ld1-b"
      },
      "source": [
        "2. UPDATE: The UPDATE command is used to modify existing data in a database table"
      ]
    },
    {
      "cell_type": "code",
      "execution_count": null,
      "metadata": {
        "id": "C7Bmfn27d1-b",
        "outputId": "f1805adc-5ea3-4a6c-ac51-e1e11e157a59"
      },
      "outputs": [
        {
          "name": "stdout",
          "output_type": "stream",
          "text": [
            " * sqlite:///test.db\n",
            "1 rows affected.\n"
          ]
        },
        {
          "data": {
            "text/plain": [
              "[]"
            ]
          },
          "execution_count": 22,
          "metadata": {},
          "output_type": "execute_result"
        }
      ],
      "source": [
        "# UPDATE example\n",
        "%sql UPDATE students SET grade = 'A+' WHERE name = 'Utkarsh Gaikwad';"
      ]
    },
    {
      "cell_type": "code",
      "execution_count": null,
      "metadata": {
        "id": "73v2cfmHd1-b",
        "outputId": "555a1ccf-9b50-4c25-9c39-0943fac12af2"
      },
      "outputs": [
        {
          "name": "stdout",
          "output_type": "stream",
          "text": [
            " * sqlite:///test.db\n",
            "Done.\n"
          ]
        },
        {
          "data": {
            "text/html": [
              "<table>\n",
              "    <tr>\n",
              "        <th>name</th>\n",
              "        <th>age</th>\n",
              "        <th>grade</th>\n",
              "    </tr>\n",
              "    <tr>\n",
              "        <td>Utkarsh Gaikwad</td>\n",
              "        <td>28</td>\n",
              "        <td>A+</td>\n",
              "    </tr>\n",
              "</table>"
            ],
            "text/plain": [
              "[('Utkarsh Gaikwad', 28, 'A+')]"
            ]
          },
          "execution_count": 23,
          "metadata": {},
          "output_type": "execute_result"
        }
      ],
      "source": [
        "#View Updated table\n",
        "%sql SELECT * FROM students;"
      ]
    },
    {
      "cell_type": "markdown",
      "metadata": {
        "id": "IyOq1DNzd1-b"
      },
      "source": [
        "3. DELETE: The DELETE command is used to remove data from a database table."
      ]
    },
    {
      "cell_type": "code",
      "execution_count": null,
      "metadata": {
        "id": "LBip_9DJd1-b",
        "outputId": "ee8c40a0-548d-4f8a-bb6c-f0bd71b7cefc"
      },
      "outputs": [
        {
          "name": "stdout",
          "output_type": "stream",
          "text": [
            " * sqlite:///test.db\n",
            "1 rows affected.\n"
          ]
        },
        {
          "data": {
            "text/plain": [
              "[]"
            ]
          },
          "execution_count": 24,
          "metadata": {},
          "output_type": "execute_result"
        }
      ],
      "source": [
        "%sql DELETE FROM students WHERE name='Utkarsh Gaikwad';"
      ]
    },
    {
      "cell_type": "code",
      "execution_count": null,
      "metadata": {
        "id": "4L36lhEAd1-c",
        "outputId": "85117975-35d5-4e72-cf27-d4e54a6e777a"
      },
      "outputs": [
        {
          "name": "stdout",
          "output_type": "stream",
          "text": [
            " * sqlite:///test.db\n",
            "Done.\n"
          ]
        },
        {
          "data": {
            "text/html": [
              "<table>\n",
              "    <tr>\n",
              "        <th>name</th>\n",
              "        <th>age</th>\n",
              "        <th>grade</th>\n",
              "    </tr>\n",
              "</table>"
            ],
            "text/plain": [
              "[]"
            ]
          },
          "execution_count": 25,
          "metadata": {},
          "output_type": "execute_result"
        }
      ],
      "source": [
        "%sql SELECT * FROM students;"
      ]
    },
    {
      "cell_type": "markdown",
      "metadata": {
        "id": "m7h-WFVrd1-c"
      },
      "source": [
        "## Question 4: What is DQL? Explain SELECT with an example.\n",
        "---"
      ]
    },
    {
      "cell_type": "markdown",
      "metadata": {
        "id": "PAuNNzFud1-c"
      },
      "source": [
        "## Answer : DQL stands for \"Data Query Language,\" and it is a subset of SQL (Structured Query Language) that is used to retrieve data from a database. The main command in DQL is SELECT."
      ]
    },
    {
      "cell_type": "code",
      "execution_count": null,
      "metadata": {
        "id": "CYDz-reCd1-c"
      },
      "outputs": [],
      "source": [
        "#Checking students table"
      ]
    },
    {
      "cell_type": "code",
      "execution_count": null,
      "metadata": {
        "id": "EZVKuG6Fd1-c",
        "outputId": "0de1c21d-5ef3-4e59-b338-8f7b57f74656"
      },
      "outputs": [
        {
          "name": "stdout",
          "output_type": "stream",
          "text": [
            " * sqlite:///test.db\n",
            "Done.\n"
          ]
        },
        {
          "data": {
            "text/html": [
              "<table>\n",
              "    <tr>\n",
              "        <th>name</th>\n",
              "        <th>age</th>\n",
              "        <th>grade</th>\n",
              "    </tr>\n",
              "</table>"
            ],
            "text/plain": [
              "[]"
            ]
          },
          "execution_count": 27,
          "metadata": {},
          "output_type": "execute_result"
        }
      ],
      "source": [
        "%sql SELECt * FROM students"
      ]
    },
    {
      "cell_type": "markdown",
      "metadata": {
        "id": "t0-fSPD9d1-c"
      },
      "source": [
        "### Inserting various students using INSERT command"
      ]
    },
    {
      "cell_type": "code",
      "execution_count": null,
      "metadata": {
        "id": "qGN8H452d1-c",
        "outputId": "bc0061fb-5a43-4f2a-e682-047249040ce9"
      },
      "outputs": [
        {
          "name": "stdout",
          "output_type": "stream",
          "text": [
            " * sqlite:///test.db\n",
            "1 rows affected.\n",
            "1 rows affected.\n",
            "1 rows affected.\n",
            "1 rows affected.\n",
            "1 rows affected.\n",
            "1 rows affected.\n",
            "1 rows affected.\n"
          ]
        },
        {
          "data": {
            "text/plain": [
              "[]"
            ]
          },
          "execution_count": 28,
          "metadata": {},
          "output_type": "execute_result"
        }
      ],
      "source": [
        "%%sql\n",
        "INSERT INTO students VALUES ('Utkarsh', 28, 'A');\n",
        "INSERT INTO students VALUES ('John', 35, 'B');\n",
        "INSERT INTO students VALUES ('Krish', 40, 'A');\n",
        "INSERT INTO students VALUES ('Sudh', 35, 'A');\n",
        "INSERT INTO students VALUES ('Jane', 24, 'C');\n",
        "INSERT INTO students VALUES ('Aditi', 22, 'B');\n",
        "INSERT INTO students VALUES ('Kritika', 38, 'C')"
      ]
    },
    {
      "cell_type": "code",
      "execution_count": null,
      "metadata": {
        "id": "YeNuQNCId1-d",
        "outputId": "fa8add4d-19fd-4e38-a263-5c8f6d237628"
      },
      "outputs": [
        {
          "name": "stdout",
          "output_type": "stream",
          "text": [
            " * sqlite:///test.db\n",
            "Done.\n"
          ]
        },
        {
          "data": {
            "text/html": [
              "<table>\n",
              "    <tr>\n",
              "        <th>name</th>\n",
              "        <th>age</th>\n",
              "        <th>grade</th>\n",
              "    </tr>\n",
              "    <tr>\n",
              "        <td>Utkarsh</td>\n",
              "        <td>28</td>\n",
              "        <td>A</td>\n",
              "    </tr>\n",
              "    <tr>\n",
              "        <td>John</td>\n",
              "        <td>35</td>\n",
              "        <td>B</td>\n",
              "    </tr>\n",
              "    <tr>\n",
              "        <td>Krish</td>\n",
              "        <td>40</td>\n",
              "        <td>A</td>\n",
              "    </tr>\n",
              "    <tr>\n",
              "        <td>Sudh</td>\n",
              "        <td>35</td>\n",
              "        <td>A</td>\n",
              "    </tr>\n",
              "    <tr>\n",
              "        <td>Jane</td>\n",
              "        <td>24</td>\n",
              "        <td>C</td>\n",
              "    </tr>\n",
              "    <tr>\n",
              "        <td>Aditi</td>\n",
              "        <td>22</td>\n",
              "        <td>B</td>\n",
              "    </tr>\n",
              "    <tr>\n",
              "        <td>Kritika</td>\n",
              "        <td>38</td>\n",
              "        <td>C</td>\n",
              "    </tr>\n",
              "</table>"
            ],
            "text/plain": [
              "[('Utkarsh', 28, 'A'),\n",
              " ('John', 35, 'B'),\n",
              " ('Krish', 40, 'A'),\n",
              " ('Sudh', 35, 'A'),\n",
              " ('Jane', 24, 'C'),\n",
              " ('Aditi', 22, 'B'),\n",
              " ('Kritika', 38, 'C')]"
            ]
          },
          "execution_count": 29,
          "metadata": {},
          "output_type": "execute_result"
        }
      ],
      "source": [
        "# Selecting Entire students table\n",
        "%sql SELECT * from students;"
      ]
    },
    {
      "cell_type": "code",
      "execution_count": null,
      "metadata": {
        "id": "G2nB6hvUd1-d",
        "outputId": "402499a2-d41d-4106-e077-2a4d06576feb"
      },
      "outputs": [
        {
          "name": "stdout",
          "output_type": "stream",
          "text": [
            " * sqlite:///test.db\n",
            "Done.\n"
          ]
        },
        {
          "data": {
            "text/html": [
              "<table>\n",
              "    <tr>\n",
              "        <th>name</th>\n",
              "        <th>age</th>\n",
              "    </tr>\n",
              "    <tr>\n",
              "        <td>Utkarsh</td>\n",
              "        <td>28</td>\n",
              "    </tr>\n",
              "    <tr>\n",
              "        <td>John</td>\n",
              "        <td>35</td>\n",
              "    </tr>\n",
              "    <tr>\n",
              "        <td>Krish</td>\n",
              "        <td>40</td>\n",
              "    </tr>\n",
              "    <tr>\n",
              "        <td>Sudh</td>\n",
              "        <td>35</td>\n",
              "    </tr>\n",
              "    <tr>\n",
              "        <td>Jane</td>\n",
              "        <td>24</td>\n",
              "    </tr>\n",
              "    <tr>\n",
              "        <td>Aditi</td>\n",
              "        <td>22</td>\n",
              "    </tr>\n",
              "    <tr>\n",
              "        <td>Kritika</td>\n",
              "        <td>38</td>\n",
              "    </tr>\n",
              "</table>"
            ],
            "text/plain": [
              "[('Utkarsh', 28),\n",
              " ('John', 35),\n",
              " ('Krish', 40),\n",
              " ('Sudh', 35),\n",
              " ('Jane', 24),\n",
              " ('Aditi', 22),\n",
              " ('Kritika', 38)]"
            ]
          },
          "execution_count": 30,
          "metadata": {},
          "output_type": "execute_result"
        }
      ],
      "source": [
        "# Example 2 : Show only name and age of students\n",
        "%sql SELECT name, age FROM students;"
      ]
    },
    {
      "cell_type": "code",
      "execution_count": null,
      "metadata": {
        "id": "-vro4pF2d1-d",
        "outputId": "0463b5c8-b349-41d1-8ec5-0647d47918da"
      },
      "outputs": [
        {
          "name": "stdout",
          "output_type": "stream",
          "text": [
            " * sqlite:///test.db\n",
            "Done.\n"
          ]
        },
        {
          "data": {
            "text/html": [
              "<table>\n",
              "    <tr>\n",
              "        <th>name</th>\n",
              "        <th>age</th>\n",
              "        <th>grade</th>\n",
              "    </tr>\n",
              "    <tr>\n",
              "        <td>Utkarsh</td>\n",
              "        <td>28</td>\n",
              "        <td>A</td>\n",
              "    </tr>\n",
              "    <tr>\n",
              "        <td>Krish</td>\n",
              "        <td>40</td>\n",
              "        <td>A</td>\n",
              "    </tr>\n",
              "    <tr>\n",
              "        <td>Sudh</td>\n",
              "        <td>35</td>\n",
              "        <td>A</td>\n",
              "    </tr>\n",
              "</table>"
            ],
            "text/plain": [
              "[('Utkarsh', 28, 'A'), ('Krish', 40, 'A'), ('Sudh', 35, 'A')]"
            ]
          },
          "execution_count": 32,
          "metadata": {},
          "output_type": "execute_result"
        }
      ],
      "source": [
        "# Example 3: Selecting student with A Grade\n",
        "%sql SELECT * FROM students WHERE grade='A';"
      ]
    },
    {
      "cell_type": "markdown",
      "metadata": {
        "id": "Rkqi61V8d1-d"
      },
      "source": [
        "## Question 5: Explain Primary Key and Foreign Key.\n",
        "---"
      ]
    },
    {
      "cell_type": "markdown",
      "metadata": {
        "id": "i_6d76j_d1-d"
      },
      "source": [
        "## Answer:\n",
        "\n",
        "1. Primary Key: In a database table, a primary key is a column or a set of columns that uniquely identifies each row in the table. The primary key is used to ensure that each row in the table is unique, and it is often used as a reference by other tables. The primary key is also used to enforce data integrity, which means that it ensures that there are no duplicate or null values in the key column(s)."
      ]
    },
    {
      "cell_type": "markdown",
      "metadata": {
        "id": "-09R4udyd1-d"
      },
      "source": [
        "Creating a table named \"customers\" with columns \"customer_id\", \"first_name\", \"last_name\", and \"email\". The \"customer_id\" column is defined as the primary key."
      ]
    },
    {
      "cell_type": "code",
      "execution_count": null,
      "metadata": {
        "id": "WJ74tk2vd1-e",
        "outputId": "4efa92c4-d086-4701-ea68-b67a766808cf"
      },
      "outputs": [
        {
          "name": "stdout",
          "output_type": "stream",
          "text": [
            " * sqlite:///test.db\n",
            "Done.\n"
          ]
        },
        {
          "data": {
            "text/plain": [
              "[]"
            ]
          },
          "execution_count": 33,
          "metadata": {},
          "output_type": "execute_result"
        }
      ],
      "source": [
        "%%sql\n",
        "CREATE TABLE customers (\n",
        "  customer_id INT PRIMARY KEY,\n",
        "  first_name VARCHAR(50),\n",
        "  last_name VARCHAR(50),\n",
        "  email VARCHAR(100));"
      ]
    },
    {
      "cell_type": "code",
      "execution_count": null,
      "metadata": {
        "id": "JqB-xSMAd1-e",
        "outputId": "d0f223d6-8510-4532-f196-054f29e80fb6"
      },
      "outputs": [
        {
          "name": "stdout",
          "output_type": "stream",
          "text": [
            " * sqlite:///test.db\n",
            "Done.\n"
          ]
        },
        {
          "data": {
            "text/html": [
              "<table>\n",
              "    <tr>\n",
              "        <th>customer_id</th>\n",
              "        <th>first_name</th>\n",
              "        <th>last_name</th>\n",
              "        <th>email</th>\n",
              "    </tr>\n",
              "</table>"
            ],
            "text/plain": [
              "[]"
            ]
          },
          "execution_count": 34,
          "metadata": {},
          "output_type": "execute_result"
        }
      ],
      "source": [
        "%sql SELECT * FROM customers"
      ]
    },
    {
      "cell_type": "markdown",
      "metadata": {
        "id": "31Ej2N9pd1-e"
      },
      "source": [
        "2. Foreign Key: A foreign key is a column or a set of columns in a table that refers to the primary key of another table. The foreign key is used to establish a relationship between two tables, and it ensures that the data in the foreign key column(s) of one table matches the data in the primary key column(s) of the other table."
      ]
    },
    {
      "cell_type": "markdown",
      "metadata": {
        "id": "XZErtiALd1-e"
      },
      "source": [
        "Creating a table named \"orders\" with columns \"order_id\", \"order_date\", \"customer_id\", and \"total_amount\". The \"order_id\" column is defined as the primary key, and the \"customer_id\" column is defined as a foreign key that references the \"customer_id\" column of the \"customers\" table. This establishes a relationship between the \"orders\" table and the \"customers\" table. The \"total_amount\" column is used to store the total amount of the order."
      ]
    },
    {
      "cell_type": "code",
      "execution_count": null,
      "metadata": {
        "id": "TxY-xaOed1-e",
        "outputId": "bbd891a0-7446-4986-8dab-7dabc137fde1"
      },
      "outputs": [
        {
          "name": "stdout",
          "output_type": "stream",
          "text": [
            " * sqlite:///test.db\n",
            "Done.\n"
          ]
        },
        {
          "data": {
            "text/plain": [
              "[]"
            ]
          },
          "execution_count": 35,
          "metadata": {},
          "output_type": "execute_result"
        }
      ],
      "source": [
        "%%sql\n",
        "CREATE TABLE orders (\n",
        "  order_id INT PRIMARY KEY,\n",
        "  order_date DATE,\n",
        "  customer_id INT,\n",
        "  total_amount DECIMAL(10,2),\n",
        "  FOREIGN KEY (customer_id) REFERENCES customers(customer_id));"
      ]
    },
    {
      "cell_type": "code",
      "execution_count": null,
      "metadata": {
        "id": "taKIgIPcd1-e",
        "outputId": "c8fd29e5-49f4-4fb6-dcd6-9f3d55537088"
      },
      "outputs": [
        {
          "name": "stdout",
          "output_type": "stream",
          "text": [
            " * sqlite:///test.db\n",
            "Done.\n"
          ]
        },
        {
          "data": {
            "text/html": [
              "<table>\n",
              "    <tr>\n",
              "        <th>order_id</th>\n",
              "        <th>order_date</th>\n",
              "        <th>customer_id</th>\n",
              "        <th>total_amount</th>\n",
              "    </tr>\n",
              "</table>"
            ],
            "text/plain": [
              "[]"
            ]
          },
          "execution_count": 36,
          "metadata": {},
          "output_type": "execute_result"
        }
      ],
      "source": [
        "%sql SELECT * FROM orders"
      ]
    },
    {
      "cell_type": "markdown",
      "metadata": {
        "id": "a0HQa_zmd1-e"
      },
      "source": [
        "### Closing SQLite datbase connection"
      ]
    },
    {
      "cell_type": "code",
      "execution_count": null,
      "metadata": {
        "id": "7pPZ5oUod1-f"
      },
      "outputs": [],
      "source": [
        "con.close()"
      ]
    },
    {
      "cell_type": "markdown",
      "metadata": {
        "id": "1_1MQC-Ld1-f"
      },
      "source": [
        "## Question 6: Write a python code to connect MySQL to python. Explain the cursor() and execute() method\n",
        "---"
      ]
    },
    {
      "cell_type": "markdown",
      "metadata": {
        "id": "OGqg61Ayd1-f"
      },
      "source": [
        "## Answer:"
      ]
    },
    {
      "cell_type": "markdown",
      "metadata": {
        "id": "p0f8SQPxd1-f"
      },
      "source": [
        "### Installing mySQL connector first"
      ]
    },
    {
      "cell_type": "code",
      "execution_count": null,
      "metadata": {
        "id": "A6qo43z3d1-f",
        "outputId": "6003ce44-351f-44c7-8764-619e196248a6"
      },
      "outputs": [
        {
          "name": "stdout",
          "output_type": "stream",
          "text": [
            "Collecting mysql-connector-python\n",
            "  Downloading mysql_connector_python-8.0.32-cp310-cp310-win_amd64.whl (7.9 MB)\n",
            "     ---------------------------------------- 0.0/7.9 MB ? eta -:--:--\n",
            "     ---------------------------------------- 0.0/7.9 MB 960.0 kB/s eta 0:00:09\n",
            "      --------------------------------------- 0.1/7.9 MB 1.3 MB/s eta 0:00:06\n",
            "     - -------------------------------------- 0.2/7.9 MB 1.8 MB/s eta 0:00:05\n",
            "     -- ------------------------------------- 0.5/7.9 MB 2.9 MB/s eta 0:00:03\n",
            "     ----- ---------------------------------- 1.0/7.9 MB 4.6 MB/s eta 0:00:02\n",
            "     --------- ------------------------------ 1.8/7.9 MB 6.4 MB/s eta 0:00:01\n",
            "     ------------- -------------------------- 2.6/7.9 MB 8.0 MB/s eta 0:00:01\n",
            "     ------------------ --------------------- 3.7/7.9 MB 9.9 MB/s eta 0:00:01\n",
            "     -------------------------- ------------- 5.3/7.9 MB 13.1 MB/s eta 0:00:01\n",
            "     ------------------------------ --------- 6.1/7.9 MB 13.4 MB/s eta 0:00:01\n",
            "     --------------------------------- ------ 6.7/7.9 MB 13.0 MB/s eta 0:00:01\n",
            "     ---------------------------------- ----- 6.7/7.9 MB 12.3 MB/s eta 0:00:01\n",
            "     ------------------------------------ --- 7.3/7.9 MB 12.6 MB/s eta 0:00:01\n",
            "     ---------------------------------------  7.7/7.9 MB 12.0 MB/s eta 0:00:01\n",
            "     ---------------------------------------- 7.9/7.9 MB 12.0 MB/s eta 0:00:00\n",
            "Collecting protobuf<=3.20.3,>=3.11.0\n",
            "  Using cached protobuf-3.20.3-cp310-cp310-win_amd64.whl (904 kB)\n",
            "Installing collected packages: protobuf, mysql-connector-python\n",
            "Successfully installed mysql-connector-python-8.0.32 protobuf-3.20.3\n"
          ]
        }
      ],
      "source": [
        "!pip install mysql-connector-python"
      ]
    },
    {
      "cell_type": "code",
      "execution_count": null,
      "metadata": {
        "id": "k6VGgODfd1-f",
        "outputId": "2e3eafb3-32c6-45b9-966b-57f5c5532804"
      },
      "outputs": [
        {
          "name": "stdout",
          "output_type": "stream",
          "text": [
            "<mysql.connector.connection_cext.CMySQLConnection object at 0x000002626623FEE0>\n",
            "('information_schema',)\n",
            "('mysql',)\n",
            "('performance_schema',)\n",
            "('sys',)\n"
          ]
        }
      ],
      "source": [
        "import mysql.connector\n",
        "# import mysql.connector\n",
        "#create user 'user'@'%' identified by 'password'\n",
        "mydb = mysql.connector.connect(\n",
        "  host=\"localhost\",\n",
        "  user=\"root\",\n",
        "  password=\"Secure@1994\"\n",
        ")\n",
        "print(mydb)\n",
        "mycursor = mydb.cursor()\n",
        "mycursor.execute(\"SHOW DATABASES\")\n",
        "for x in mycursor:\n",
        "  print(x)\n",
        "mydb.close()"
      ]
    },
    {
      "cell_type": "markdown",
      "metadata": {
        "id": "AXZFe9N_d1-f"
      },
      "source": [
        "1. In above code, we first establish a connection to a MySQL database using the mysql.connector.connect() method, which takes the host, user, password as arguments.\n",
        "2. Next, we create a cursor object using the cursor() method of the connection object. The cursor object allows us to execute queries and fetch results.\n",
        "3. We then execute a SQL query using the execute() method of the cursor object, which takes the SQL query as an argument."
      ]
    },
    {
      "cell_type": "markdown",
      "metadata": {
        "id": "AUwk6aZyd1-g"
      },
      "source": [
        "## Question 7: Give the order of execution of SQL clauses in an SQL query.\n",
        "---"
      ]
    },
    {
      "cell_type": "markdown",
      "metadata": {
        "id": "EacXsfEwd1-g"
      },
      "source": [
        "## Answer: In an SQL query, the clauses are executed in the following order:\n",
        "1. FROM clause: Specifies the table or tables from which to retrieve data.\n",
        "\n",
        "2. JOIN clause: Specifies how to join multiple tables together, if needed.\n",
        "\n",
        "3. WHERE clause: Specifies which rows to retrieve based on a set of conditions.\n",
        "\n",
        "4. GROUP BY clause: Specifies how to group rows based on one or more columns.\n",
        "\n",
        "5. HAVING clause: Specifies which groups to retrieve based on a set of conditions.\n",
        "\n",
        "6. SELECT clause: Specifies which columns to retrieve.\n",
        "\n",
        "7. DISTINCT clause: Specifies to retrieve only distinct values of the specified columns.\n",
        "\n",
        "8. ORDER BY clause: Specifies how to sort the retrieved rows based on one or more columns.\n",
        "\n",
        "9. LIMIT clause: Specifies the maximum number of rows to retrieve."
      ]
    }
  ],
  "metadata": {
    "kernelspec": {
      "display_name": "venv",
      "language": "python",
      "name": "python3"
    },
    "language_info": {
      "codemirror_mode": {
        "name": "ipython",
        "version": 3
      },
      "file_extension": ".py",
      "mimetype": "text/x-python",
      "name": "python",
      "nbconvert_exporter": "python",
      "pygments_lexer": "ipython3",
      "version": "3.10.7"
    },
    "orig_nbformat": 4,
    "vscode": {
      "interpreter": {
        "hash": "27149e82490bdaa27222c4e29544e396278d224a9f42010d392c3451ce079b12"
      }
    },
    "colab": {
      "provenance": []
    }
  },
  "nbformat": 4,
  "nbformat_minor": 0
}