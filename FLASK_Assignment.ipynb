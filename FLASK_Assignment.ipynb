{
  "cells": [
    {
      "cell_type": "markdown",
      "source": [
        "<a id=\"2\"></a>\n",
        "\n",
        "# <p style=\"padding:10px;background-color:#87CEEB ;margin:10;color:#000000;font-family:newtimeroman;font-size:100%;text-align:center;border-radius: 10px 10px ;overflow:hidden;font-weight:50\">Question 1</p>"
      ],
      "metadata": {
        "id": "d1B5oFivgR9j"
      }
    },
    {
      "cell_type": "markdown",
      "metadata": {
        "id": "XEG4samJfksj"
      },
      "source": [
        "## Question 1: What is Flask Framework? What are the advantages of Flask Framework?\n",
        "---"
      ]
    },
    {
      "cell_type": "markdown",
      "metadata": {
        "id": "1TGc9UMAfksj"
      },
      "source": [
        "## Answer:\n",
        "\n",
        "### Flask is a popular web framework for Python that allows developers to build web applications quickly and easily. Flask is designed to be lightweight and flexible, which makes it a great choice for building smaller web applications or for prototyping larger applications.\n",
        "\n",
        "### One of the key features of Flask is its simplicity. Flask provides a minimalistic approach to building web applications, providing only the essential components needed to get a web application up and running. Flask does not require any particular database or templating engine, which allows developers to choose the tools that best suit their needs.\n",
        "\n",
        "### Some advantages of Flask include:\n",
        "\n",
        "1. Lightweight: Flask is a lightweight framework, meaning that it does not come with a lot of built-in features. This allows developers to have more control over the structure of their application and can make it easier to understand and debug.\n",
        "\n",
        "2. Flexibility: Flask is highly flexible and can be used to build a wide range of web applications, from simple prototypes to complex web applications with multiple modules and databases.\n",
        "\n",
        "3. Easy to use: Flask is easy to set up and use, even for developers who are new to web development. The framework has a simple and intuitive API that makes it easy to build and test web applications.\n",
        "\n",
        "4. Large ecosystem: Flask has a large and active community of developers who have created a wide range of plugins and extensions for the framework. This means that developers can easily find and use existing code to add functionality to their applications.\n",
        "\n",
        "5. Good documentation: Flask has excellent documentation that is easy to understand and follow. This makes it easier for developers to learn how to use the framework and to troubleshoot any issues that may arise."
      ]
    },
    {
      "cell_type": "markdown",
      "metadata": {
        "id": "nl9_UI-jfksk"
      },
      "source": [
        "<a id=\"2\"></a>\n",
        "\n",
        "# <p style=\"padding:10px;background-color:#87CEEB ;margin:10;color:#000000;font-family:newtimeroman;font-size:100%;text-align:center;border-radius: 10px 10px ;overflow:hidden;font-weight:50\">Question 2</p>"
      ]
    },
    {
      "cell_type": "markdown",
      "metadata": {
        "id": "N2sEeHiQfksk"
      },
      "source": [
        "## Question 2: Create a simple Flask application to display ‘Hello World!!’. Attach the screenshot of the output in Jupyter Notebook.\n",
        "---"
      ]
    },
    {
      "cell_type": "markdown",
      "metadata": {
        "id": "jxFkbhSAfkso"
      },
      "source": [
        "## Answer:\n",
        "\n",
        "### Step 1: Installing dependency Flask"
      ]
    },
    {
      "cell_type": "code",
      "execution_count": null,
      "metadata": {
        "id": "aSmTLhKcfkso",
        "outputId": "c29fb8ac-ea0c-4f77-aa54-d7a790733329"
      },
      "outputs": [
        {
          "name": "stdout",
          "output_type": "stream",
          "text": [
            "Requirement already satisfied: Flask in e:\\pwskills assignments\\venv\\lib\\site-packages (2.2.3)\n",
            "Requirement already satisfied: click>=8.0 in e:\\pwskills assignments\\venv\\lib\\site-packages (from Flask) (8.1.3)\n",
            "Requirement already satisfied: Werkzeug>=2.2.2 in e:\\pwskills assignments\\venv\\lib\\site-packages (from Flask) (2.2.3)\n",
            "Requirement already satisfied: itsdangerous>=2.0 in e:\\pwskills assignments\\venv\\lib\\site-packages (from Flask) (2.1.2)\n",
            "Requirement already satisfied: Jinja2>=3.0 in e:\\pwskills assignments\\venv\\lib\\site-packages (from Flask) (3.1.2)\n",
            "Requirement already satisfied: colorama in e:\\pwskills assignments\\venv\\lib\\site-packages (from click>=8.0->Flask) (0.4.6)\n",
            "Requirement already satisfied: MarkupSafe>=2.0 in e:\\pwskills assignments\\venv\\lib\\site-packages (from Jinja2>=3.0->Flask) (2.1.2)\n",
            "Note: you may need to restart the kernel to use updated packages.\n"
          ]
        }
      ],
      "source": [
        "%pip install Flask"
      ]
    },
    {
      "cell_type": "markdown",
      "metadata": {
        "id": "Fe2UOy-xfksp"
      },
      "source": [
        "### Step 2: Writing \"Hello World\" in Flask"
      ]
    },
    {
      "cell_type": "code",
      "execution_count": null,
      "metadata": {
        "id": "wq00oGBYfksp",
        "outputId": "750aa2d9-cc4f-4381-9d41-d6eba6e517c7"
      },
      "outputs": [
        {
          "name": "stdout",
          "output_type": "stream",
          "text": [
            " * Serving Flask app '__main__'\n",
            " * Debug mode: off\n"
          ]
        },
        {
          "name": "stderr",
          "output_type": "stream",
          "text": [
            "WARNING: This is a development server. Do not use it in a production deployment. Use a production WSGI server instead.\n",
            " * Running on all addresses (0.0.0.0)\n",
            " * Running on http://127.0.0.1:5000\n",
            " * Running on http://192.168.0.105:5000\n",
            "Press CTRL+C to quit\n",
            "127.0.0.1 - - [19/Feb/2023 21:52:35] \"GET / HTTP/1.1\" 200 -\n",
            "127.0.0.1 - - [19/Feb/2023 21:52:35] \"GET /favicon.ico HTTP/1.1\" 404 -\n"
          ]
        }
      ],
      "source": [
        "# Importing flask module\n",
        "from flask import Flask\n",
        "\n",
        "# Creating flask app object\n",
        "app = Flask(__name__)\n",
        "\n",
        "# Creating routing decorator for homepage\n",
        "@app.route(\"/\")\n",
        "def hello_world():\n",
        "    # This function prints Hello world inside Flask app center aligned\n",
        "    return \"<h1 align='center'>Hello, World!</h1>\"\n",
        "\n",
        "# Running the app\n",
        "if __name__==\"__main__\":\n",
        "    app.run(host=\"0.0.0.0\")"
      ]
    },
    {
      "cell_type": "markdown",
      "metadata": {
        "id": "XlH8Gd7yfksq"
      },
      "source": [
        "### Screenshot of Hello World Center Aligned on Local Web app - http:/127.0.0.1:5000"
      ]
    },
    {
      "cell_type": "markdown",
      "metadata": {
        "id": "Pp-iu19Jfksq"
      },
      "source": [
        "<img src=\"./Question2.jpg\" alt=\"Question 2 Hello World\" style=\"border: 10px solid black;\">"
      ]
    },
    {
      "cell_type": "markdown",
      "metadata": {
        "id": "_UpR2FSHfksq"
      },
      "source": [
        "<a id=\"3\"></a>\n",
        "\n",
        "# <p style=\"padding:10px;background-color:#87CEEB ;margin:10;color:#000000;font-family:newtimeroman;font-size:100%;text-align:center;border-radius: 10px 10px ;overflow:hidden;font-weight:50\">Question 3</p>"
      ]
    },
    {
      "cell_type": "markdown",
      "metadata": {
        "id": "q4lhtYGQfksq"
      },
      "source": [
        "## Question 3: What is App routing in Flask? Why do we use app routes?\n",
        "---"
      ]
    },
    {
      "cell_type": "markdown",
      "metadata": {
        "id": "R9PMr4pGfksq"
      },
      "source": [
        "## Answer :\n",
        "\n",
        "### In Flask, routing refers to the process of mapping URLs to functions in the Python code that generate responses to those URLs.\n",
        "\n",
        "### An app route is a decorator function in Flask that maps a URL endpoint to a Python function. The basic syntax for an app route is as follows:\n",
        "\n",
        "~~~python\n",
        "@app.route('/pagename')\n",
        "def function_name():\n",
        "    # Function code here    \n",
        "~~~\n",
        "\n",
        "### When a user visits the specified URL endpoint in their web browser, Flask will invoke the associated function and return the response generated by that function.\n",
        "\n",
        "### We use app routes in Flask to build web applications that can respond to different requests from users. By defining app routes, we can map different URLs to different functions, which allows us to create a clean and organized structure for our application.\n",
        "\n",
        "### For example, we might define separate app routes to handle the home page, a login page, a user profile page, and so on. This makes it easy to add new features to our application over time, and to keep our code organized and maintainable.\n",
        "\n",
        "### Overall, app routing is a key part of building web applications in Flask, and is essential for creating dynamic and responsive websites."
      ]
    },
    {
      "cell_type": "markdown",
      "metadata": {
        "id": "uVACRbtGfksq"
      },
      "source": [
        "<a id=\"4\"></a>\n",
        "\n",
        "# <p style=\"padding:10px;background-color:#87CEEB ;margin:10;color:#000000;font-family:newtimeroman;font-size:100%;text-align:center;border-radius: 10px 10px ;overflow:hidden;font-weight:50\">Question 4</p>"
      ]
    },
    {
      "cell_type": "markdown",
      "metadata": {
        "id": "6EMyl6Lhfksq"
      },
      "source": [
        "## Question 4: Create a “/welcome” route to display the welcome message “Welcome to ABC Corporation” and a “/” route to show the following details:\n",
        "\n",
        "Company Name: ABC Corporation\n",
        "\n",
        "Location: India\n",
        "\n",
        "Contact Detail: 999-999-9999\n",
        "\n",
        "Attach the screenshot of the output in Jupyter Notebook.\n",
        "\n",
        "---"
      ]
    },
    {
      "cell_type": "markdown",
      "metadata": {
        "id": "iPjUl55Jfksq"
      },
      "source": [
        "## Answer:"
      ]
    },
    {
      "cell_type": "code",
      "execution_count": null,
      "metadata": {
        "id": "GAjyIEp6fksq",
        "outputId": "c596f344-448c-4cf9-9487-34ef704ee880"
      },
      "outputs": [
        {
          "name": "stdout",
          "output_type": "stream",
          "text": [
            " * Serving Flask app '__main__'\n",
            " * Debug mode: off\n"
          ]
        },
        {
          "name": "stderr",
          "output_type": "stream",
          "text": [
            "WARNING: This is a development server. Do not use it in a production deployment. Use a production WSGI server instead.\n",
            " * Running on all addresses (0.0.0.0)\n",
            " * Running on http://127.0.0.1:5000\n",
            " * Running on http://192.168.0.105:5000\n",
            "Press CTRL+C to quit\n",
            "127.0.0.1 - - [19/Feb/2023 22:05:41] \"GET / HTTP/1.1\" 200 -\n",
            "127.0.0.1 - - [19/Feb/2023 22:05:48] \"GET /welcome HTTP/1.1\" 200 -\n"
          ]
        }
      ],
      "source": [
        "# Importing flask module\n",
        "from flask import Flask\n",
        "\n",
        "# Creating flask app object\n",
        "app = Flask(__name__)\n",
        "\n",
        "# Creating a route decorator to show welcome message\n",
        "@app.route(\"/welcome\")\n",
        "def welcome_msg():\n",
        "    # This function shows welcome message h1 center aligned\n",
        "    return \"<h1 align='center'>Welcome to ABC Corporation</h1>\"\n",
        "\n",
        "# Creating route decorator for showing company details\n",
        "@app.route(\"/\")\n",
        "def home_page():\n",
        "    # This function prints company details\n",
        "    return '''\n",
        "    <h1>Company Name: ABC Corporation</h1>\n",
        "    <p>Location: India</p>\n",
        "    <p>Contact Detail: 999-999-9999</p>\n",
        "    '''\n",
        "\n",
        "# Running the app\n",
        "if __name__==\"__main__\":\n",
        "    app.run(host=\"0.0.0.0\")"
      ]
    },
    {
      "cell_type": "markdown",
      "metadata": {
        "id": "p_I2aIcKfksr"
      },
      "source": [
        "### 1. Below is screenshot of homepage or \"/\" route"
      ]
    },
    {
      "cell_type": "markdown",
      "metadata": {
        "id": "yCkD_FdHfksr"
      },
      "source": [
        "<img src=\"./Question4HomePage.jpg\" alt=\"Question 4 Homepage\" style=\"border: 10px solid black;\">"
      ]
    },
    {
      "cell_type": "markdown",
      "metadata": {
        "id": "wJFhQakKfksr"
      },
      "source": [
        "### 2. Below is screenshot of \"/welcome\" route"
      ]
    },
    {
      "cell_type": "markdown",
      "metadata": {
        "id": "HelwRu9sfksr"
      },
      "source": [
        "<img src=\"./Question4Welcome.jpg\" alt=\"Question 4 Welcome Page\" style=\"border: 10px solid black;\">"
      ]
    },
    {
      "cell_type": "markdown",
      "metadata": {
        "id": "lcTiklnBfksr"
      },
      "source": [
        "<a id=\"5\"></a>\n",
        "\n",
        "# <p style=\"padding:10px;background-color:#87CEEB ;margin:10;color:#000000;font-family:newtimeroman;font-size:100%;text-align:center;border-radius: 10px 10px ;overflow:hidden;font-weight:50\">Question 5</p>"
      ]
    },
    {
      "cell_type": "markdown",
      "metadata": {
        "id": "YrDs8NgTfksr"
      },
      "source": [
        "## Question 5: What function is used in Flask for URL Building? Write a Python code to demonstrate the working of the url_for() function\n",
        "---"
      ]
    },
    {
      "cell_type": "markdown",
      "metadata": {
        "id": "VzAPrij8fksr"
      },
      "source": [
        "## Answer:\n",
        "\n",
        "### In Flask, the url_for() function is used for URL building. The url_for() function generates a URL for a given endpoint and any arguments provided. This function is useful because it ensures that URLs are always generated according to the rules of the application, even if the URL structure is changed.\n",
        "\n",
        "### Here's an example of how to use the url_for() function in a Flask application:"
      ]
    },
    {
      "cell_type": "code",
      "execution_count": null,
      "metadata": {
        "id": "D_WgC8XQfksr",
        "outputId": "350b4cc5-ad14-40d2-f21c-93835e6cc73d"
      },
      "outputs": [
        {
          "name": "stdout",
          "output_type": "stream",
          "text": [
            "1. URL for Home page is : /\n",
            "2. URL for user is : /user/UtkarshGaikwad\n"
          ]
        }
      ],
      "source": [
        "from flask import Flask, url_for\n",
        "\n",
        "app = Flask(__name__)\n",
        "\n",
        "@app.route('/')\n",
        "def home():\n",
        "    return 'Welcome to My home page!'\n",
        "\n",
        "@app.route('/user/<username>')\n",
        "def user_profile(username):\n",
        "    return f'Welcome to {username}\\'s profile!'\n",
        "\n",
        "with app.test_request_context():\n",
        "    print(\"1. URL for Home page is :\",url_for('home'))\n",
        "    # Output: /\n",
        "\n",
        "    print(\"2. URL for user is :\",url_for('user_profile', username='UtkarshGaikwad'))\n",
        "    # Output: /user/UtkarshGaikwad"
      ]
    },
    {
      "cell_type": "markdown",
      "metadata": {
        "id": "zP4AcQ3Zfksr"
      },
      "source": [
        "### In this example, we define two routes using the @app.route() decorator: one for the home page (/) and one for a user profile page (/user/<username>), where username is a variable that can be passed in as an argument.\n",
        "\n",
        "### Inside the test_request_context() block, we call the url_for() function twice. The first call to url_for('home') generates a URL for the home endpoint, which is mapped to the root URL (/). The second call to url_for('user_profile', username='UtkarshGaikwad') generates a URL for the user_profile endpoint with the argument username='UtkarshGaikwad', which results in the URL /user/UtkarshGaikwad.\n",
        "\n",
        "### When we run this code, it will output the generated URLs for each call to url_for(). Note that the test_request_context() block is used to create a fake request context, which is required for the url_for() function to work outside of a request handler."
      ]
    }
  ],
  "metadata": {
    "kernelspec": {
      "display_name": "venv",
      "language": "python",
      "name": "python3"
    },
    "language_info": {
      "codemirror_mode": {
        "name": "ipython",
        "version": 3
      },
      "file_extension": ".py",
      "mimetype": "text/x-python",
      "name": "python",
      "nbconvert_exporter": "python",
      "pygments_lexer": "ipython3",
      "version": "3.10.7"
    },
    "orig_nbformat": 4,
    "vscode": {
      "interpreter": {
        "hash": "27149e82490bdaa27222c4e29544e396278d224a9f42010d392c3451ce079b12"
      }
    },
    "colab": {
      "provenance": []
    }
  },
  "nbformat": 4,
  "nbformat_minor": 0
}